{
 "cells": [
  {
   "cell_type": "code",
   "execution_count": 38,
   "id": "e9997e7d",
   "metadata": {},
   "outputs": [
    {
     "data": {
      "text/html": [
       "<div>\n",
       "<style scoped>\n",
       "    .dataframe tbody tr th:only-of-type {\n",
       "        vertical-align: middle;\n",
       "    }\n",
       "\n",
       "    .dataframe tbody tr th {\n",
       "        vertical-align: top;\n",
       "    }\n",
       "\n",
       "    .dataframe thead th {\n",
       "        text-align: right;\n",
       "    }\n",
       "</style>\n",
       "<table border=\"1\" class=\"dataframe\">\n",
       "  <thead>\n",
       "    <tr style=\"text-align: right;\">\n",
       "      <th></th>\n",
       "      <th>Year</th>\n",
       "      <th>Food_Inflation</th>\n",
       "      <th>Rainfall</th>\n",
       "      <th>Temperature</th>\n",
       "    </tr>\n",
       "  </thead>\n",
       "  <tbody>\n",
       "    <tr>\n",
       "      <th>0</th>\n",
       "      <td>2012</td>\n",
       "      <td>11.07</td>\n",
       "      <td>837.1</td>\n",
       "      <td>27.71</td>\n",
       "    </tr>\n",
       "    <tr>\n",
       "      <th>1</th>\n",
       "      <td>2013</td>\n",
       "      <td>12.09</td>\n",
       "      <td>943.4</td>\n",
       "      <td>27.46</td>\n",
       "    </tr>\n",
       "    <tr>\n",
       "      <th>2</th>\n",
       "      <td>2014</td>\n",
       "      <td>6.36</td>\n",
       "      <td>781.0</td>\n",
       "      <td>27.88</td>\n",
       "    </tr>\n",
       "    <tr>\n",
       "      <th>3</th>\n",
       "      <td>2015</td>\n",
       "      <td>4.88</td>\n",
       "      <td>758.2</td>\n",
       "      <td>27.73</td>\n",
       "    </tr>\n",
       "    <tr>\n",
       "      <th>4</th>\n",
       "      <td>2016</td>\n",
       "      <td>4.23</td>\n",
       "      <td>865.5</td>\n",
       "      <td>28.44</td>\n",
       "    </tr>\n",
       "    <tr>\n",
       "      <th>5</th>\n",
       "      <td>2017</td>\n",
       "      <td>1.80</td>\n",
       "      <td>845.7</td>\n",
       "      <td>28.50</td>\n",
       "    </tr>\n",
       "    <tr>\n",
       "      <th>6</th>\n",
       "      <td>2018</td>\n",
       "      <td>0.14</td>\n",
       "      <td>804.0</td>\n",
       "      <td>28.28</td>\n",
       "    </tr>\n",
       "    <tr>\n",
       "      <th>7</th>\n",
       "      <td>2019</td>\n",
       "      <td>6.71</td>\n",
       "      <td>970.8</td>\n",
       "      <td>28.60</td>\n",
       "    </tr>\n",
       "    <tr>\n",
       "      <th>8</th>\n",
       "      <td>2020</td>\n",
       "      <td>7.69</td>\n",
       "      <td>959.3</td>\n",
       "      <td>28.00</td>\n",
       "    </tr>\n",
       "    <tr>\n",
       "      <th>9</th>\n",
       "      <td>2021</td>\n",
       "      <td>3.76</td>\n",
       "      <td>872.3</td>\n",
       "      <td>28.00</td>\n",
       "    </tr>\n",
       "  </tbody>\n",
       "</table>\n",
       "</div>"
      ],
      "text/plain": [
       "   Year  Food_Inflation  Rainfall  Temperature\n",
       "0  2012           11.07     837.1        27.71\n",
       "1  2013           12.09     943.4        27.46\n",
       "2  2014            6.36     781.0        27.88\n",
       "3  2015            4.88     758.2        27.73\n",
       "4  2016            4.23     865.5        28.44\n",
       "5  2017            1.80     845.7        28.50\n",
       "6  2018            0.14     804.0        28.28\n",
       "7  2019            6.71     970.8        28.60\n",
       "8  2020            7.69     959.3        28.00\n",
       "9  2021            3.76     872.3        28.00"
      ]
     },
     "execution_count": 38,
     "metadata": {},
     "output_type": "execute_result"
    }
   ],
   "source": [
    "import statsmodels.formula.api as smf\n",
    "import pandas as pd\n",
    "\n",
    "#importing data for India's food inflation, rainfall and temperature from 2012 to 2021.\n",
    "data = pd.read_excel(\"/Users/mr.malhaar/Desktop/regression.xlsx\", header = 1)\n",
    "df = pd.DataFrame(data)\n",
    "df.drop(df.columns[0], axis =1, inplace = True)\n",
    "df"
   ]
  },
  {
   "cell_type": "code",
   "execution_count": 39,
   "id": "1924bc49",
   "metadata": {},
   "outputs": [
    {
     "name": "stdout",
     "output_type": "stream",
     "text": [
      "                            OLS Regression Results                            \n",
      "==============================================================================\n",
      "Dep. Variable:         Food_Inflation   R-squared:                       0.733\n",
      "Model:                            OLS   Adj. R-squared:                  0.657\n",
      "Method:                 Least Squares   F-statistic:                     9.627\n",
      "Date:                Wed, 24 Aug 2022   Prob (F-statistic):            0.00979\n",
      "Time:                        15:10:27   Log-Likelihood:                -20.308\n",
      "No. Observations:                  10   AIC:                             46.62\n",
      "Df Residuals:                       7   BIC:                             47.52\n",
      "Df Model:                           2                                         \n",
      "Covariance Type:            nonrobust                                         \n",
      "===============================================================================\n",
      "                  coef    std err          t      P>|t|      [0.025      0.975]\n",
      "-------------------------------------------------------------------------------\n",
      "Intercept     189.7184     54.056      3.510      0.010      61.897     317.540\n",
      "Rainfall        0.0281      0.010      2.801      0.027       0.004       0.052\n",
      "Temperature    -7.4169      1.953     -3.797      0.007     -12.036      -2.798\n",
      "==============================================================================\n",
      "Omnibus:                        0.207   Durbin-Watson:                   1.810\n",
      "Prob(Omnibus):                  0.902   Jarque-Bera (JB):                0.380\n",
      "Skew:                           0.155   Prob(JB):                        0.827\n",
      "Kurtosis:                       2.097   Cond. No.                     6.73e+04\n",
      "==============================================================================\n",
      "\n",
      "Notes:\n",
      "[1] Standard Errors assume that the covariance matrix of the errors is correctly specified.\n",
      "[2] The condition number is large, 6.73e+04. This might indicate that there are\n",
      "strong multicollinearity or other numerical problems.\n"
     ]
    },
    {
     "name": "stderr",
     "output_type": "stream",
     "text": [
      "/Users/mr.malhaar/opt/anaconda3/lib/python3.8/site-packages/scipy/stats/stats.py:1603: UserWarning: kurtosistest only valid for n>=20 ... continuing anyway, n=10\n",
      "  warnings.warn(\"kurtosistest only valid for n>=20 ... continuing \"\n"
     ]
    }
   ],
   "source": [
    "#setting up the regression model to model the relationship between food inflation with rainfall and temperature.\n",
    "variables = \"Food_Inflation~Rainfall + Temperature\"\n",
    "reg = smf.ols(variables, df,).fit()\n",
    "print(reg.summary())"
   ]
  },
  {
   "cell_type": "code",
   "execution_count": 3,
   "id": "ab849681",
   "metadata": {},
   "outputs": [
    {
     "data": {
      "image/png": "[encoded data removed]",
      "text/plain": [
       "<Figure size 360x360 with 1 Axes>"
      ]
     },
     "metadata": {
      "needs_background": "light"
     },
     "output_type": "display_data"
    }
   ],
   "source": [
    "import seaborn as sns\n",
    "import matplotlib.pyplot as plt\n",
    "\n",
    "#visualising the regression of food inflation with rainfall.\n",
    "sns.lmplot(x = 'Rainfall',y = 'Inflation', data = df, fit_reg = True, ci = None)\n",
    "\n",
    "plt.title(\"Simple Linear Regression\")\n",
    "plt.ylabel(\"Inflation\")\n",
    "plt.xlabel(\"Rainfall\")\n",
    "\n",
    "plt.show()"
   ]
  },
  {
   "cell_type": "code",
   "execution_count": 4,
   "id": "75149d29",
   "metadata": {},
   "outputs": [
    {
     "data": {
      "image/png": "[encoded data removed]",
      "text/plain": [
       "<Figure size 360x360 with 1 Axes>"
      ]
     },
     "metadata": {
      "needs_background": "light"
     },
     "output_type": "display_data"
    }
   ],
   "source": [
    "import seaborn as sns\n",
    "import matplotlib.pyplot as plt\n",
    "\n",
    "#visualising the regression of food inflation with temperature.\n",
    "sns.lmplot(x = 'Temperature',y = 'Inflation', data = df, fit_reg = True, ci = None)\n",
    "\n",
    "plt.title(\"Simple Linear Regression\")\n",
    "plt.ylabel(\"Inflation\")\n",
    "plt.xlabel(\"Temperature\")\n",
    "\n",
    "plt.show()"
   ]
  },
  {
   "cell_type": "code",
   "execution_count": null,
   "id": "cf9cd21a",
   "metadata": {},
   "outputs": [],
   "source": []
  }
 ],
 "metadata": {
  "kernelspec": {
   "display_name": "Python 3",
   "language": "python",
   "name": "python3"
  },
  "language_info": {
   "codemirror_mode": {
    "name": "ipython",
    "version": 3
   },
   "file_extension": ".py",
   "mimetype": "text/x-python",
   "name": "python",
   "nbconvert_exporter": "python",
   "pygments_lexer": "ipython3",
   "version": "3.8.8"
  }
 },
 "nbformat": 4,
 "nbformat_minor": 5
}
